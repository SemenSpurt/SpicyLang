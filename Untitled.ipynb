{
 "cells": [
  {
   "cell_type": "code",
   "execution_count": 1,
   "id": "5bade473-0aa8-40ed-94ed-d3c8d6283b51",
   "metadata": {},
   "outputs": [],
   "source": [
    "import numpy as np\n",
    "import pandas as pd\n",
    "\n",
    "import spacy"
   ]
  },
  {
   "cell_type": "code",
   "execution_count": 4,
   "id": "67187713-a6a7-4278-aa13-6dd69760fb1b",
   "metadata": {},
   "outputs": [
    {
     "name": "stdout",
     "output_type": "stream",
     "text": [
      "[('Hello', 'X'), ('would', 'X'), ('you', 'X'), ('find', 'X'), ('a', 'X'), ('few', 'X'), ('minutes', 'X'), ('to', 'X'), ('talk', 'X'), ('about', 'X'), ('proteomics', 'X'), ('?', 'PUNCT')]\n"
     ]
    }
   ],
   "source": [
    "nlp = spacy.load(\"ru_core_news_sm\")\n",
    "import ru_core_news_sm\n",
    "nlp = ru_core_news_sm.load()\n"
   ]
  },
  {
   "cell_type": "code",
   "execution_count": null,
   "id": "12be0cd4-3640-4a1d-a731-cb43e9510bc3",
   "metadata": {},
   "outputs": [],
   "source": [
    "doc = nlp(\"Hello would you find a few minutes to talk about proteomics?\")"
   ]
  },
  {
   "cell_type": "code",
   "execution_count": 5,
   "id": "da20059f-42b5-49b0-ae38-7acc62007813",
   "metadata": {},
   "outputs": [
    {
     "name": "stdout",
     "output_type": "stream",
     "text": [
      "['Hello', 'would', 'you', 'find', 'a', 'few', 'minutes', 'to', 'talk', 'about', 'proteomics', '?']\n"
     ]
    }
   ],
   "source": [
    "print([w.text for w in doc])"
   ]
  },
  {
   "cell_type": "code",
   "execution_count": 7,
   "id": "5cdc45d9-51ab-4221-a8dc-63ef831f94bc",
   "metadata": {},
   "outputs": [
    {
     "name": "stdout",
     "output_type": "stream",
     "text": [
      "[('Hello', 'hello'), ('would', 'would'), ('you', 'you'), ('find', 'find'), ('a', 'a'), ('few', 'few'), ('minutes', 'minutes'), ('to', 'to'), ('talk', 'talk'), ('about', 'about'), ('proteomics', 'proteomics'), ('?', '?')]\n"
     ]
    }
   ],
   "source": [
    "print([(w.text, w.lemma_) for w in doc])"
   ]
  },
  {
   "cell_type": "code",
   "execution_count": null,
   "id": "265acdd9-7c80-46a4-bf94-12f8995427dd",
   "metadata": {},
   "outputs": [],
   "source": []
  },
  {
   "cell_type": "code",
   "execution_count": null,
   "id": "0536090e-430c-448d-899d-d8ff7cdd8748",
   "metadata": {},
   "outputs": [],
   "source": []
  },
  {
   "cell_type": "code",
   "execution_count": null,
   "id": "9b184692-468d-4646-94a0-0696e4d659a3",
   "metadata": {},
   "outputs": [],
   "source": []
  }
 ],
 "metadata": {
  "kernelspec": {
   "display_name": "spicylang",
   "language": "python",
   "name": "venv"
  },
  "language_info": {
   "codemirror_mode": {
    "name": "ipython",
    "version": 3
   },
   "file_extension": ".py",
   "mimetype": "text/x-python",
   "name": "python",
   "nbconvert_exporter": "python",
   "pygments_lexer": "ipython3",
   "version": "3.9.13"
  }
 },
 "nbformat": 4,
 "nbformat_minor": 5
}
